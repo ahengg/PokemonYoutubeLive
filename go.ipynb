{
 "cells": [
  {
   "cell_type": "code",
   "execution_count": 2,
   "metadata": {},
   "outputs": [
    {
     "name": "stdout",
     "output_type": "stream",
     "text": [
      "2023-03-25 22:42:47 [SenseiTzy]- hadeh cape\n",
      "2023-03-25 22:42:53 [Arvin Danuarta]- snipe barrelnya qor\n",
      "2023-03-25 22:42:53 [Komentar Ehsan]- BAREL NA TEMBAK\n",
      "2023-03-25 22:42:55 [Deny Vernanda]- gregettt bet sma qoryy\n",
      "2023-03-25 22:42:56 [Irfan Maulana]- Ashley jual aja ke merchant blay\n",
      "2023-03-25 22:43:04 [Reza Bumulo24]- di atas bang\n",
      "2023-03-25 22:43:04 [Arsa]- bullet biru dibwh qor\n",
      "2023-03-25 22:43:05 [Tetsuya Allif]- di obor pas lu sneaky qor\n",
      "2023-03-25 22:43:07 [Komentar Ehsan]- pke sniper na\n",
      "2023-03-25 22:43:08 [fajar jufrianto]- DIATAS\n",
      "2023-03-25 22:43:09 [Neno Arisma]- ditembak bang ditempat modar kedua\n",
      "2023-03-25 22:43:09 [rizal rpm]- barelnya tembak kocak\n",
      "2023-03-25 22:43:21 [Rizky Yoga]- punya sniper buat apaan gadipake. ada tongnya itu bang\n",
      "2023-03-25 22:43:24 [M Riansyah Putra]- harap bersabar viewers2 budiman, si gimbal lagi fokus gamepay\n",
      "2023-03-25 22:43:25 [SenseiTzy]- Tembak barel nya cok\n",
      "2023-03-25 22:43:28 [Alv In]- gilee\n",
      "2023-03-25 22:43:29 [PENONTON #69]- ashleyyyyy panggang wkwkwkwk\n",
      "2023-03-25 22:43:31 [Kamil muhammadkamil]- bang Ashley suruh tunggu aja atau sembunyiin di tempat yg aman\n",
      "2023-03-25 22:43:32 [Black Orchid]- wkkwkw\n",
      "2023-03-25 22:43:34 [Kemas]- wkwkwkwk\n",
      "2023-03-25 22:43:34 [Muhammad Zulfikar]- gabisa lah lu bunuh dulu itu ketapel qor\n",
      "2023-03-25 22:43:35 [M Riansyah Putra]- wkeowkeowkewoe\n",
      "2023-03-25 22:43:37 [Freakies Junkies]- @Siyanido bro bro gore juga ga terlalu ngarep dibaca ko ngab, cuma pgn komen aja buat kawan kawan disini\n",
      "2023-03-25 22:43:40 [Kamil muhammadkamil]- bang Ashley suruh tunggu aja atau sembunyiin di tempat yg aman\n",
      "2023-03-25 22:43:40 [Agung Prasetyo]- surss parss\n",
      "2023-03-25 22:43:40 [Asep Sunarya]- pake sniper\n",
      "2023-03-25 22:43:40 [Just Because?]- ded\n",
      "2023-03-25 22:43:40 [Rahmatul Fitrah]- NT\n",
      "2023-03-25 22:43:41 [fajar jufrianto]- WKWKWK\n",
      "2023-03-25 22:43:41 [surohu_]- :face-blue-smiling::face-blue-smiling::face-blue-smiling::face-blue-smiling::face-blue-smiling:\n",
      "2023-03-25 22:43:41 [Black Orchid]- hahahaha\n",
      "2023-03-25 22:43:41 [Irfan Maulana]- Ashley jual aja ke merchant blay\n",
      "2023-03-25 22:43:42 [Komentar Ehsan]- PAKE SNIPER\n",
      "2023-03-25 22:43:42 [Syaiful Alam]- wkwkwkwk ashly nya beban\n",
      "2023-03-25 22:43:42 [Reza Regiana]- jajajajajajjaja\n",
      "2023-03-25 22:43:43 [Bayu]- wkwkkww\n",
      "2023-03-25 22:43:43 [Kamil muhammadkamil]- bang Ashley suruh tunggu aja atau sembunyiin di tempat yg aman\n",
      "2023-03-25 22:43:44 [Arvin Danuarta]- sniper barrelnya\n",
      "2023-03-25 22:43:44 [Fanji Setia]- Kureng\n",
      "2023-03-25 22:43:45 [Age Syah]- wkwkwwkwkwk\n",
      "2023-03-25 22:43:46 [Ade fonna]- wkwkwkwkwk\n",
      "2023-03-25 22:43:46 [Kenneth]- KIPS LURRRRR\n",
      "2023-03-25 22:43:46 [wildan setyoso]- ancurin dulu\n",
      "2023-03-25 22:43:46 [Jatayu Rifky]- itu yg di katapel di sniper\n",
      "2023-03-25 22:43:47 [Chandra Wijaya]- Wkwkkwkwkkwkw\n",
      "2023-03-25 22:43:47 [Muhamad Rifqi]- tembak barel\n",
      "2023-03-25 22:43:48 [Muhammadrizky Tazudin]- anjiirr telat nonton baru pulang kerja :grinning_face_with_sweat:\n",
      "2023-03-25 22:43:47 [Larr]- akwwokwowk\n",
      "2023-03-25 22:43:48 [🤙]- :face-blue-smiling::face-blue-smiling::face-blue-smiling::face-blue-smiling::face-blue-smiling::face-blue-smiling::face-blue-smiling::face-blue-smiling:\n",
      "2023-03-25 22:43:48 [Rizky Maulana]- deddd\n",
      "2023-03-25 22:43:49 [Farsi Firdaus]- tembak gentong anj\n",
      "2023-03-25 22:43:48 [Iqbal Noprian]- greget gua liat lu maen\n",
      "2023-03-25 22:43:49 [Wakabarr]- kin\n",
      "2023-03-25 22:43:49 [Kamil muhammadkamil]- bang Ashley suruh tunggu aja atau sembunyiin di tempat yg aman\n",
      "2023-03-25 22:43:49 [Yozz]- tembak tong\n",
      "2023-03-25 22:43:49 [KENSHIN]- heal Hela atuh ajg\n",
      "2023-03-25 22:43:50 [{Kimki me}♥]- peperangan indonesia dan belanda sama baget\n",
      "2023-03-25 22:43:50 [Doni Salahmakan]- Nt nt\n",
      "2023-03-25 22:43:50 [Destiny Alkurun]- beli healing dulu ker merchant\n",
      "2023-03-25 22:43:50 [Zuhdi A.H]- bunuh dulu ketapeelll\n"
     ]
    }
   ],
   "source": [
    "import pytchat\n",
    "chat = pytchat.create(video_id=\"6Q24z6wD2dQ\")\n",
    "while chat.is_alive():\n",
    "    for c in chat.get().sync_items():\n",
    "        print(f\"{c.datetime} [{c.author.name}]- {c.message}\")"
   ]
  },
  {
   "cell_type": "code",
   "execution_count": null,
   "metadata": {},
   "outputs": [],
   "source": []
  }
 ],
 "metadata": {
  "kernelspec": {
   "display_name": "base",
   "language": "python",
   "name": "python3"
  },
  "language_info": {
   "codemirror_mode": {
    "name": "ipython",
    "version": 3
   },
   "file_extension": ".py",
   "mimetype": "text/x-python",
   "name": "python",
   "nbconvert_exporter": "python",
   "pygments_lexer": "ipython3",
   "version": "3.9.12"
  },
  "orig_nbformat": 4
 },
 "nbformat": 4,
 "nbformat_minor": 2
}
